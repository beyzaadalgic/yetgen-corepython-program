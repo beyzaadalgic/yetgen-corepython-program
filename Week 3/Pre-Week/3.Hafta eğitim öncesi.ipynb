{
  "cells": [
    {
      "cell_type": "markdown",
      "metadata": {
        "id": "tsD4YVAe_Te2"
      },
      "source": [
        "# Problem 1\n",
        "Bir sayının 7'ye bölünebilir olup olmadığını kontrol etmek \n",
        "için bir program yazın.\n",
        "\n",
        "İpucu: Mod operatörünü (%) kullanabilirsiniz."
      ]
    },
    {
      "cell_type": "code",
      "execution_count": 3,
      "metadata": {
        "id": "NGjvNwKx_Te7"
      },
      "outputs": [
        {
          "name": "stdout",
          "output_type": "stream",
          "text": [
            "32 sayısı 7'ye tam bölünemez.\n"
          ]
        }
      ],
      "source": [
        "sayi = int(input(\"Bir sayı giriniz: \"))    \n",
        "if sayi % 7 == 0:  \n",
        "    print(f\"{sayi} sayısı 7'ye tam bölünebilir. \")  \n",
        "else:\n",
        "    print(f\"{sayi} sayısı 7'ye tam bölünemez.\")"
      ]
    },
    {
      "cell_type": "markdown",
      "metadata": {
        "id": "Kg3qiBAI_Te8"
      },
      "source": [
        "# Problem 2\n",
        "Kullanıcıdan vize ve final notu isteyin. Girilen vize notunun %40’ı ve \n",
        "girilen finalnotunun ise %60’ı alınarak yıl sonu not ortalaması hesaplanacaktır. \n",
        "\n",
        "Bu not ortalaması eğer 85 ve üzeri ise AA, \n",
        "\n",
        "75 ve 85 arasında ise BA, \n",
        "\n",
        "70 ve 75 arasında ise BB, \n",
        "\n",
        "65 ve 70 arasında ise CB,\n",
        "\n",
        "60 ve 65 arasında ise CC,\n",
        "\n",
        "55 ve 60 arasında ise DC,\n",
        "\n",
        "50 ve 55 arasında ise DD olarak hesaplanacaktır. \n",
        "\n",
        "Bu öğrencinin yıl sonu toplam notu 50’nin altında ise FF ile dersten kalacaktır. \n",
        "\n",
        "Ayrıca öğrencinin final notu 50’nin altında ise direkt FF ile kalacaktır."
      ]
    },
    {
      "cell_type": "code",
      "execution_count": 1,
      "metadata": {
        "id": "MXTtCxI1_Te8"
      },
      "outputs": [
        {
          "name": "stdout",
          "output_type": "stream",
          "text": [
            "Ortalamanız:  52.00\n",
            "Harf notunuz: DD\n"
          ]
        }
      ],
      "source": [
        "vize = float(input(\"Vize notunuzu girin: \"))  \n",
        "final = float(input(\"Final notunuzu girin: \"))  \n",
        "ortalama = (vize * 0.4) + (final * 0.6)\n",
        "   \n",
        "if ortalama >=85: \n",
        "    harf_notu = \"AA\"  \n",
        "elif 75 <= ortalama <85:  \n",
        "    harf_notu = \"BA\" \n",
        "elif 70 <= ortalama <75:  \n",
        "    harf_notu = \"BB\" \n",
        "elif 65 <= ortalama <70: \n",
        "    harf_notu = \"CB\" \n",
        "elif 60 <= ortalama <65: \n",
        "    harf_notu = \"CC\" \n",
        "elif 55 <= ortalama <60:  \n",
        "    harf_notu = \"DC\" \n",
        "elif 50 <= ortalama <55: \n",
        "    harf_notu = \"DD\"     \n",
        "else: \n",
        "    harf_notu = \"FF\"   \n",
        "\n",
        "if final < 50 or ((vize * 0.4) + (final * 0.6)) < 50: \n",
        "    harf_notu = \"FF\"  \n",
        "else: \n",
        "    ortalama = (vize * 0.4) + (final * 0.6) \n",
        "\n",
        "print(f\"Ortalamanız: {ortalama: .2f}\") \n",
        "print(f\"Harf notunuz: {harf_notu}\")\n",
        "\n",
        "    \n",
        " \n",
        "\n"
      ]
    },
    {
      "cell_type": "markdown",
      "metadata": {
        "id": "tAoRYCTC_Te8"
      },
      "source": [
        "# Problem 3\n",
        "İki YetGenli Zirve'de karşılaşıyorlar. Birbirlerini tanımak için sorular soruyorlar. Birbirlerine yaşlarını soruyorlar. Akıllarına bir Python programı yazıp, yaşlarını ve isimlerini giriyorlar. Büyük olanın yaşını ekrana yazdıran programı yazıyorlar. Sende bu iki YetGenli'ye destek olmak ister misin?\n",
        "\n",
        "```\n",
        "Birinci YetGenlinin ismi: Ahmet\n",
        "Birinci YetGenlinin yaşı : 20\n",
        "İkinci YetGenlinin ismi: Mehmet\n",
        "İkinci YetGenlinin yaşı : 25\n",
        "Mehmet'in yaşı daha büyük ve yaşı 25'tir.\n",
        "```"
      ]
    },
    {
      "cell_type": "code",
      "execution_count": 40,
      "metadata": {
        "id": "bPjE8W0i_Te8"
      },
      "outputs": [
        {
          "name": "stdout",
          "output_type": "stream",
          "text": [
            "Mehmet'ın yaşı daha büyük ve yaşı 25'tir.\n"
          ]
        }
      ],
      "source": [
        "Yetgenli1 = input(\"1. yetgenlinin ismini giriniz: \")  \n",
        "Yetgenli1_yas = int(input(\"1. yetgenlinin yaşını giriniz: \"))    \n",
        "\n",
        "Yetgenli2 = input(\"2. yetgenlinin ismini giriniz: \")\n",
        "Yetgenli2_yas = int(input(\"2. yetgenlinin yaşını giriniz: \"))     \n",
        " \n",
        "if Yetgenli1_yas > Yetgenli2_yas:   \n",
        "    buyuk_olan = Yetgenli1\n",
        "    buyuk_yas = Yetgenli1_yas\n",
        "  \n",
        "elif Yetgenli2_yas > Yetgenli1_yas:  \n",
        "    buyuk_olan = Yetgenli2\n",
        "    buyuk_yas = Yetgenli2_yas\n",
        "\n",
        "print (f\"{buyuk_olan}'ın yaşı daha büyük ve yaşı {buyuk_yas}'tir.\")\n"
      ]
    },
    {
      "cell_type": "markdown",
      "metadata": {
        "id": "zBVv8Tyg_Te9"
      },
      "source": [
        "# Problem 4\n",
        "Pandemi döneminde AVM'lerde ateş ölçümü yapılıyor. AVM'ye giren kişinin ateş ölçümü 37.5 derecenin altında ise girişe izin veriliyor. 37.5 derecenin üstünde ise girişe izin verilmiyor. AVM'ye girişe izin verilip verilmediğini ekrana yazdıran bir program yazın.\n",
        "\n",
        "Program sonunda şöyle bir çıktı elde etmelisiniz:\n",
        "\n",
        "```\n",
        "Ateşiniz 37.5 derece. AVM'ye girebilirsin! Maske takmayı unutma!\n",
        "Ateşiniz 37.6 derece. AVM'ye giremezsin! Hemen evine dön!\n",
        "```"
      ]
    },
    {
      "cell_type": "code",
      "execution_count": 2,
      "metadata": {
        "id": "TSAXs8et_Te9"
      },
      "outputs": [
        {
          "name": "stdout",
          "output_type": "stream",
          "text": [
            "Ateşiniz 38.0 derece. AVM'ye giremezsin! Hemen evine dön!\n"
          ]
        }
      ],
      "source": [
        "kisinin_atesi = float(input(\"Kişinin ateş ölçümünü giriniz: \")) \n",
        "if kisinin_atesi<= 37.5: \n",
        "    print(f\"Ateşiniz {kisinin_atesi} derece. AVM'ye girebilirsin! Maske takmayı unutma!\")  \n",
        "else: \n",
        "    print(f\"Ateşiniz {kisinin_atesi} derece. AVM'ye giremezsin! Hemen evine dön!\") \n",
        "\n"
      ]
    },
    {
      "cell_type": "markdown",
      "metadata": {
        "id": "6AEkZrDt_Te9"
      },
      "source": [
        "# Problem 5\n",
        "YetGen bir spor kulübüyle sponsorluk anlaşması yapıyor. Kulüp, sponsorluk anlaşmasına göre her YetGen liderinin beden kitle indeksini hesaplamak istiyor. Spor kulübü, beden kitle indeksini hesaplamak için YetGen Jump Python liderlerinden Berkcan ve Ahmet'i arıyor. Berkcan ve Ahmet, kulübe yardımcı olmak için bir Python programı yazıyorlar. Sende bu iki YetGen liderine destek olmak ister misin?\n",
        "\n",
        "Kullanıcıdan alınan boy ve kilo değerlerine göre beden kitle indeksini hesaplayın ve şu kurallara göre ekrana şu yazıları yazdırın.\n",
        "\n",
        "\n",
        "Beden Kitle İndeksi, kişinin ağırlığının (kg olarak) boyunun karesine (m olarak) bölünmesiyle hesaplanır.\n",
        "\n",
        "\n",
        "```\n",
        " BKİ 18.5'un altındaysa -------> Zayıf\n",
        "\n",
        " BKİ 18.5 ile 25 arasındaysa ------> Normal\n",
        "\n",
        " BKİ 25 ile 30 arasındaysa --------> Fazla Kilolu\n",
        "\n",
        " BKİ 30'un üstündeyse -------------> Obez\n",
        "```\n",
        "\n"
      ]
    },
    {
      "cell_type": "code",
      "execution_count": 2,
      "metadata": {
        "id": "t-XPI_u0_Te-"
      },
      "outputs": [
        {
          "name": "stdout",
          "output_type": "stream",
          "text": [
            "Kişinin BKİ'si  29.30 ve kişi Fazla Kiloludır. \n"
          ]
        }
      ],
      "source": [
        "kişi_boy = float(input(\"Kişinin boyunu giriniz: \")) \n",
        "kişi_kilo = float(input(\"Kişinin kilosunu giriniz: \"))  \n",
        "BKİ = (kişi_kilo)/(kişi_boy**2) \n",
        "\n",
        "if BKİ< 18.5: \n",
        "   kisi = \"Zayıf\" \n",
        "elif 18.5 <= BKİ <25: \n",
        "   kisi = \"Normal\" \n",
        "elif 25 <= BKİ <30: \n",
        "   kisi = \"Fazla Kilolu\" \n",
        "else: \n",
        "   kisi = \"Obez\"  \n",
        "\n",
        "print(f\"Kişinin BKİ'si {BKİ: .2F} ve kişi {kisi}dır. \")\n",
        "\n",
        "   \n"
      ]
    },
    {
      "cell_type": "markdown",
      "metadata": {
        "id": "oFsvQyaO_Te-"
      },
      "source": [
        "# Problem 6\n",
        "Kullanıcıdan isim, yaş ve eğitim bilgilerini isteyip ehliyet alabilme  durumunu kontrol ediniz. \n",
        "\n",
        "Ehliyet alma koşulu en az 18 yaşında ve eğitim durumu lise ya da üniversite olmalıdır. "
      ]
    },
    {
      "cell_type": "code",
      "execution_count": 3,
      "metadata": {
        "id": "Tu2mcgco_Te-"
      },
      "outputs": [
        {
          "name": "stdout",
          "output_type": "stream",
          "text": [
            "Berke, ehliyet alma şartlarını sağlamıyorsunuz.\n"
          ]
        }
      ],
      "source": [
        "isim = input(\"İsminizi giriniz: \")\n",
        "yas = int(input(\"Yaşınızı giriniz: \"))\n",
        "egitim_bilgisi = input(\"Eğitim durumunuzu giriniz (ilkokul, ortaokul, lise, üniversite): \")\n",
        "    \n",
        "gecerli_egitim_bilgisi = (\"lise\", \"Lise\", \"üniversite\", \"Üniversite\")\n",
        "\n",
        "\n",
        "if yas >= 18 and egitim_bilgisi in gecerli_egitim_bilgisi: \n",
        "    print(f\"{isim}, ehliyet alabilirsiniz.\")\n",
        "else:\n",
        "    print(f\"{isim}, ehliyet alma şartlarını sağlamıyorsunuz.\")\n",
        "\n",
        " \n",
        " \n"
      ]
    },
    {
      "cell_type": "markdown",
      "metadata": {
        "id": "eUkxVSAE_Te_"
      },
      "source": [
        "# Problem 7\n",
        "Bir yılın artık yıl olup olmadığını kontrol etmek için bir program yazın. \n",
        "Artık yıl kuralı:\n",
        "\n",
        "a) Eğer yılın son iki basamağı (00) ile bitmiyor ve yalnızca 4'e tam bölünüyorsa artık yıldır. Ya da, \n",
        "\n",
        "b) Eğer yıl 400'e tam bölünüyorsa artık yıldır.\n",
        "\n",
        "**Örneğin**\n",
        "```\n",
        "2017 artık yıl değildir.\n",
        "1900 artık yıl değildir\n",
        "2012 artık yıldır.\n",
        "2000 artık yıldır.\n",
        "```"
      ]
    },
    {
      "cell_type": "code",
      "execution_count": 64,
      "metadata": {
        "id": "4uWh8qUL_Te_"
      },
      "outputs": [
        {
          "name": "stdout",
          "output_type": "stream",
          "text": [
            "2012 yılı artık yıldır. \n"
          ]
        }
      ],
      "source": [
        "yil = int(input(\"Bir yıl giriniz: \")) \n",
        "\n",
        "if (yil % 100 != 0 and yil % 4 == 0)  or ( yil % 400 == 0): \n",
        "    print(f\"{yil} yılı artık yıldır. \")   \n",
        "else:  \n",
        "    print(f\"{yil} yılı artık yıl değildir. \")\n",
        "    \n"
      ]
    }
  ],
  "metadata": {
    "colab": {
      "provenance": []
    },
    "kernelspec": {
      "display_name": "Python 3.10.5 64-bit",
      "language": "python",
      "name": "python3"
    },
    "language_info": {
      "codemirror_mode": {
        "name": "ipython",
        "version": 3
      },
      "file_extension": ".py",
      "mimetype": "text/x-python",
      "name": "python",
      "nbconvert_exporter": "python",
      "pygments_lexer": "ipython3",
      "version": "3.12.3"
    },
    "orig_nbformat": 4,
    "vscode": {
      "interpreter": {
        "hash": "5026d2d6e7aaaaba093def813beadff083d8733e4a511af01735cbabd156995d"
      }
    }
  },
  "nbformat": 4,
  "nbformat_minor": 0
}
